{
 "cells": [
  {
   "cell_type": "markdown",
   "id": "growing-distributor",
   "metadata": {},
   "source": [
    "# Utah real estate data scraper\n",
    "\n",
    "This scrapes the last x many years from the slt tribute website and exports as a csv for use in other applications\n",
    "I could easily make this into a function, but for now lets leave as-is\n",
    "\n",
    "Data is scraped from https://local.sltrib.com/homePrices"
   ]
  },
  {
   "cell_type": "code",
   "execution_count": 155,
   "id": "floral-festival",
   "metadata": {},
   "outputs": [],
   "source": [
    "import pandas as pd\n",
    "import numpy as np"
   ]
  },
  {
   "cell_type": "code",
   "execution_count": 156,
   "id": "exempt-samuel",
   "metadata": {},
   "outputs": [],
   "source": [
    "master_df = pd.DataFrame()"
   ]
  },
  {
   "cell_type": "code",
   "execution_count": 157,
   "id": "considerable-borough",
   "metadata": {},
   "outputs": [
    {
     "name": "stdout",
     "output_type": "stream",
     "text": [
      "2003 Salt%20Lake (36, 8) (36, 8)\n",
      "2003 Davis (46, 8) (10, 8)\n",
      "2003 Weber (55, 8) (9, 8)\n",
      "2003 Tooele (59, 8) (4, 8)\n",
      "2003 Utah (79, 8) (20, 8)\n",
      "2004 Salt%20Lake (115, 8) (36, 8)\n",
      "2004 Davis (125, 8) (10, 8)\n",
      "2004 Weber (134, 8) (9, 8)\n",
      "2004 Tooele (138, 8) (4, 8)\n",
      "2004 Utah (158, 8) (20, 8)\n",
      "2005 Salt%20Lake (194, 8) (36, 8)\n",
      "2005 Davis (204, 8) (10, 8)\n",
      "2005 Weber (213, 8) (9, 8)\n",
      "2005 Tooele (217, 8) (4, 8)\n",
      "2005 Utah (237, 8) (20, 8)\n",
      "2006 Salt%20Lake (273, 8) (36, 8)\n",
      "2006 Davis (283, 8) (10, 8)\n",
      "2006 Weber (292, 8) (9, 8)\n",
      "2006 Tooele (296, 8) (4, 8)\n",
      "2006 Utah (316, 8) (20, 8)\n",
      "2007 Salt%20Lake (352, 8) (36, 8)\n",
      "2007 Davis (362, 8) (10, 8)\n",
      "2007 Weber (371, 8) (9, 8)\n",
      "2007 Tooele (375, 8) (4, 8)\n",
      "2007 Utah (395, 8) (20, 8)\n",
      "2008 Salt%20Lake (431, 8) (36, 8)\n",
      "2008 Davis (441, 8) (10, 8)\n",
      "2008 Weber (450, 8) (9, 8)\n",
      "2008 Tooele (454, 8) (4, 8)\n",
      "2008 Utah (474, 8) (20, 8)\n",
      "2009 Salt%20Lake (510, 8) (36, 8)\n",
      "2009 Davis (520, 8) (10, 8)\n",
      "2009 Weber (529, 8) (9, 8)\n",
      "2009 Tooele (533, 8) (4, 8)\n",
      "2009 Utah (553, 8) (20, 8)\n",
      "2010 Salt%20Lake (589, 8) (36, 8)\n",
      "2010 Davis (599, 8) (10, 8)\n",
      "2010 Weber (608, 8) (9, 8)\n",
      "2010 Tooele (612, 8) (4, 8)\n",
      "2010 Utah (632, 8) (20, 8)\n",
      "2011 Salt%20Lake (668, 8) (36, 8)\n",
      "2011 Davis (678, 8) (10, 8)\n",
      "2011 Weber (687, 8) (9, 8)\n",
      "2011 Tooele (691, 8) (4, 8)\n",
      "2011 Utah (711, 8) (20, 8)\n",
      "2012 Salt%20Lake (747, 8) (36, 8)\n",
      "2012 Davis (757, 8) (10, 8)\n",
      "2012 Weber (766, 8) (9, 8)\n",
      "2012 Tooele (770, 8) (4, 8)\n",
      "2012 Utah (790, 8) (20, 8)\n",
      "2013 Salt%20Lake (826, 8) (36, 8)\n",
      "2013 Davis (836, 8) (10, 8)\n",
      "2013 Weber (845, 8) (9, 8)\n",
      "2013 Tooele (849, 8) (4, 8)\n",
      "2013 Utah (869, 8) (20, 8)\n",
      "2014 Salt%20Lake (905, 8) (36, 8)\n",
      "2014 Davis (915, 8) (10, 8)\n",
      "2014 Weber (924, 8) (9, 8)\n",
      "2014 Tooele (928, 8) (4, 8)\n",
      "2014 Utah (948, 8) (20, 8)\n",
      "2015 Salt%20Lake (984, 8) (36, 8)\n",
      "2015 Davis (994, 8) (10, 8)\n",
      "2015 Weber (1003, 8) (9, 8)\n",
      "2015 Tooele (1007, 8) (4, 8)\n",
      "2015 Utah (1027, 8) (20, 8)\n",
      "2016 Salt%20Lake (1063, 8) (36, 8)\n",
      "2016 Davis (1073, 8) (10, 8)\n",
      "2016 Weber (1082, 8) (9, 8)\n",
      "2016 Tooele (1086, 8) (4, 8)\n",
      "2016 Utah (1106, 8) (20, 8)\n",
      "2017 Salt%20Lake (1142, 8) (36, 8)\n",
      "2017 Davis (1152, 8) (10, 8)\n",
      "2017 Weber (1161, 8) (9, 8)\n",
      "2017 Tooele (1165, 8) (4, 8)\n",
      "2017 Utah (1185, 8) (20, 8)\n",
      "2018 Salt%20Lake (1221, 8) (36, 8)\n",
      "2018 Davis (1231, 8) (10, 8)\n",
      "2018 Weber (1240, 8) (9, 8)\n",
      "2018 Tooele (1244, 8) (4, 8)\n",
      "2018 Utah (1264, 8) (20, 8)\n",
      "2019 Salt%20Lake (1300, 8) (36, 8)\n",
      "2019 Davis (1310, 8) (10, 8)\n",
      "2019 Weber (1319, 8) (9, 8)\n",
      "2019 Tooele (1323, 8) (4, 8)\n",
      "2019 Utah (1343, 8) (20, 8)\n",
      "2020 Salt%20Lake (1379, 8) (36, 8)\n",
      "2020 Davis (1389, 8) (10, 8)\n",
      "2020 Weber (1398, 8) (9, 8)\n",
      "2020 Tooele (1402, 8) (4, 8)\n",
      "2020 Utah (1422, 8) (20, 8)\n"
     ]
    }
   ],
   "source": [
    "#Loop through other pages and append\n",
    "counties = [\"Salt%20Lake\", \"Davis\", \"Weber\", \"Tooele\", \"Utah\"]\n",
    "years = np.arange(2003,2021,1)   #Set to the final year +1 since the last year is not included\n",
    "\n",
    "for year in years:\n",
    "    for county in counties:  \n",
    "        url = f'https://local.sltrib.com/homePrices/index.php?Year={year}&County={county}'\n",
    "        dfs = pd.read_html(url)\n",
    "        dfs[0]['Year'] = year\n",
    "        dfs[0]['County'] = county\n",
    "        dfs[0].rename(columns={f\"{year} Median Price\":\"Median Price\"},inplace=True)\n",
    "        master_df = pd.concat([master_df,dfs[0]]) #add rows to bottom\n",
    "        print(year, county, master_df.shape, dfs[0].shape)  #Debug print statement\n",
    "        \n",
    "#Unit test\n",
    "assert set(master_df.Year) == set(years)\n",
    "assert set(master_df.County) == set(counties)"
   ]
  },
  {
   "cell_type": "code",
   "execution_count": 158,
   "id": "fifty-termination",
   "metadata": {},
   "outputs": [
    {
     "ename": "NameError",
     "evalue": "name 'utah_df' is not defined",
     "output_type": "error",
     "traceback": [
      "\u001b[1;31m---------------------------------------------------------------------------\u001b[0m",
      "\u001b[1;31mNameError\u001b[0m                                 Traceback (most recent call last)",
      "\u001b[1;32m<ipython-input-158-e1f666e58e15>\u001b[0m in \u001b[0;36m<module>\u001b[1;34m\u001b[0m\n\u001b[0;32m      3\u001b[0m \u001b[0mmaster_df\u001b[0m\u001b[1;33m[\u001b[0m\u001b[1;34m'County'\u001b[0m\u001b[1;33m]\u001b[0m \u001b[1;33m=\u001b[0m \u001b[0mmaster_df\u001b[0m\u001b[1;33m[\u001b[0m\u001b[1;34m'County'\u001b[0m\u001b[1;33m]\u001b[0m\u001b[1;33m.\u001b[0m\u001b[0mstr\u001b[0m\u001b[1;33m.\u001b[0m\u001b[0mreplace\u001b[0m\u001b[1;33m(\u001b[0m\u001b[1;34m\"%20\"\u001b[0m\u001b[1;33m,\u001b[0m \u001b[1;34m' '\u001b[0m\u001b[1;33m)\u001b[0m\u001b[1;33m\u001b[0m\u001b[1;33m\u001b[0m\u001b[0m\n\u001b[0;32m      4\u001b[0m \u001b[1;31m#Change to a float from string and remove bad characters\u001b[0m\u001b[1;33m\u001b[0m\u001b[1;33m\u001b[0m\u001b[1;33m\u001b[0m\u001b[0m\n\u001b[1;32m----> 5\u001b[1;33m \u001b[0mutah_df\u001b[0m\u001b[1;33m[\u001b[0m\u001b[1;34m\"Median Price\"\u001b[0m\u001b[1;33m]\u001b[0m \u001b[1;33m=\u001b[0m \u001b[0mutah_df\u001b[0m\u001b[1;33m[\u001b[0m\u001b[1;34m\"Median Price\"\u001b[0m\u001b[1;33m]\u001b[0m\u001b[1;33m.\u001b[0m\u001b[0mstr\u001b[0m\u001b[1;33m.\u001b[0m\u001b[0mreplace\u001b[0m\u001b[1;33m(\u001b[0m\u001b[1;34m\"$\"\u001b[0m\u001b[1;33m,\u001b[0m\u001b[1;34m\"\"\u001b[0m\u001b[1;33m)\u001b[0m\u001b[1;33m.\u001b[0m\u001b[0mstr\u001b[0m\u001b[1;33m.\u001b[0m\u001b[0mreplace\u001b[0m\u001b[1;33m(\u001b[0m\u001b[1;34m\",\"\u001b[0m\u001b[1;33m,\u001b[0m\u001b[1;34m\"\"\u001b[0m\u001b[1;33m)\u001b[0m\u001b[1;33m.\u001b[0m\u001b[0mastype\u001b[0m\u001b[1;33m(\u001b[0m\u001b[0mfloat\u001b[0m\u001b[1;33m)\u001b[0m\u001b[1;33m\u001b[0m\u001b[1;33m\u001b[0m\u001b[0m\n\u001b[0m",
      "\u001b[1;31mNameError\u001b[0m: name 'utah_df' is not defined"
     ]
    }
   ],
   "source": [
    "#Clean things up\n",
    "master_df = master_df.drop(columns=[\"Up/Down\", \"%Change\"])\n",
    "master_df['County'] = master_df['County'].str.replace(\"%20\", ' ')\n",
    "#Change to a float from string and remove bad characters\n",
    "utah_df[\"Median Price\"] = utah_df[\"Median Price\"].str.replace(\"$\",\"\").str.replace(\",\",\"\").astype(float)"
   ]
  },
  {
   "cell_type": "code",
   "execution_count": null,
   "id": "stuck-shift",
   "metadata": {},
   "outputs": [],
   "source": [
    "master_df"
   ]
  },
  {
   "cell_type": "code",
   "execution_count": null,
   "id": "bronze-container",
   "metadata": {},
   "outputs": [],
   "source": [
    "master_df.to_csv(\"UtahZipsByQuarter.csv\")"
   ]
  }
 ],
 "metadata": {
  "kernelspec": {
   "display_name": "Python 3",
   "language": "python",
   "name": "python3"
  },
  "language_info": {
   "codemirror_mode": {
    "name": "ipython",
    "version": 3
   },
   "file_extension": ".py",
   "mimetype": "text/x-python",
   "name": "python",
   "nbconvert_exporter": "python",
   "pygments_lexer": "ipython3",
   "version": "3.7.3"
  }
 },
 "nbformat": 4,
 "nbformat_minor": 5
}
